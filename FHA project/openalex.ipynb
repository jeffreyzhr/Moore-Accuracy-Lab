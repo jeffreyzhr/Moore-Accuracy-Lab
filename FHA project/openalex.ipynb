{
 "cells": [
  {
   "cell_type": "code",
   "execution_count": 2,
   "metadata": {},
   "outputs": [],
   "source": [
    "from diophila import OpenAlex\n",
    "import numpy as np\n",
    "import pandas as pd\n",
    "import itertools\n",
    "import tqdm\n",
    "import pandas_gbq\n",
    "from scipy import stats\n",
    "import matplotlib.pyplot as plt\n",
    "\n",
    "\n",
    "openalex = OpenAlex()"
   ]
  },
  {
   "cell_type": "code",
   "execution_count": 3,
   "metadata": {},
   "outputs": [],
   "source": [
    "from google.cloud import bigquery\n",
    "from google.oauth2 import service_account\n",
    "\n",
    "#input google cloud credentials\n",
    "credentials = service_account.Credentials.from_service_account_file(\"/Users/jeffreyzhou/Desktop/Moore Lab/key.json\")\n",
    "client = bigquery.Client(credentials = credentials, project = \"openalex-bigquery\")"
   ]
  },
  {
   "cell_type": "code",
   "execution_count": 5,
   "metadata": {},
   "outputs": [],
   "source": [
    "pandas_gbq.context.credentials = credentials\n",
    "authors = pd.read_gbq(\"SELECT * FROM `openalex-bigquery.filtered_author_joined.post-2012-30-10yrs` \", project_id=\"openalex-bigquery\")\n",
    "authors['TC'] = authors['TC'].astype(int)"
   ]
  },
  {
   "cell_type": "code",
   "execution_count": 7,
   "metadata": {},
   "outputs": [],
   "source": [
    "def create_df():\n",
    "    processed_authors = pd.DataFrame()\n",
    "    years = ['2012', '2013', '2014', '2015', '2016', '2017', '2018', '2019', '2020', '2021', '2022']\n",
    "    processed_authors['ID'] = pd.NA\n",
    "    processed_authors['Name'] = pd.NA\n",
    "    processed_authors['Concept'] = pd.NA\n",
    "    processed_authors = processed_authors.reindex(processed_authors.columns.to_list() + years, axis=1)\n",
    "    \n",
    "    return processed_authors"
   ]
  },
  {
   "cell_type": "code",
   "execution_count": 8,
   "metadata": {},
   "outputs": [
    {
     "data": {
      "text/plain": [
       "Index(['id', 'name', 'name_alternative', 'orcid', 'works_count', 'TC',\n",
       "       'affiliation_name', 'affiliation_id', 'affiliation_ror',\n",
       "       'affiliation_country', 'affiliation_type', 'works_api_url',\n",
       "       'total_cite', 'concept_0', 'score_0', 'concept_1', 'score_1',\n",
       "       'concept_2', 'score_2', 'year_0', 'cited_0', 'year_1', 'cited_1',\n",
       "       'year_2', 'cited_2', 'year_3', 'cited_3', 'year_4', 'cited_4', 'year_5',\n",
       "       'cited_5', 'year_6', 'cited_6', 'year_7', 'cited_7', 'year_8',\n",
       "       'cited_8', 'year_9', 'cited_9', 'year_10', 'cited_10'],\n",
       "      dtype='object')"
      ]
     },
     "execution_count": 8,
     "metadata": {},
     "output_type": "execute_result"
    }
   ],
   "source": [
    "authors.columns"
   ]
  },
  {
   "cell_type": "code",
   "execution_count": 11,
   "metadata": {},
   "outputs": [
    {
     "name": "stderr",
     "output_type": "stream",
     "text": [
      "587366it [31:20, 312.31it/s]\n"
     ]
    }
   ],
   "source": [
    "# partitions dataset \"authors\" into concepts, removing extraneous columns and adding missing annual information\n",
    "# takes about 30 mins to run\n",
    "\n",
    "all_concepts = {}\n",
    "years = {'2012':0, '2013':0, '2014':0, '2015':0, '2016':0, '2017':0, '2018':0, '2019':0, '2020':0, '2021':0, '2022':0}\n",
    "\n",
    "for index, row in tqdm.tqdm(authors.iterrows()):\n",
    "    year = years.copy()\n",
    "    concept = row['concept_0']\n",
    "    if concept not in all_concepts.keys():\n",
    "        all_concepts[concept] = create_df()\n",
    "    \n",
    "    output = [row['id'], row['name'], concept]\n",
    "    row_year = row[[\"year_0\", \"year_1\", \"year_2\", \"year_3\", \"year_4\", \"year_5\", \"year_6\", \"year_7\", \"year_8\", \"year_9\", \"year_10\"]].tolist()\n",
    "    row_cited = row[[\"cited_0\",\"cited_1\", \"cited_2\", \"cited_3\", \"cited_4\", \"cited_5\", \"cited_6\", \"cited_7\", \"cited_8\", \"cited_9\", \"cited_10\"]].tolist()\n",
    "    \n",
    "    for i in range(len(row_year)):\n",
    "        if row_year[i]:\n",
    "            year[row_year[i]] = row_cited[i]\n",
    "    \n",
    "    x, y = zip(*year.items())\n",
    "    output = output + list(y)\n",
    "    \n",
    "    \n",
    "    all_concepts[concept].loc[len(all_concepts[concept].index)] = output\n",
    "    "
   ]
  },
  {
   "cell_type": "code",
   "execution_count": 23,
   "metadata": {},
   "outputs": [],
   "source": [
    "concepts = all_concepts.keys()\n",
    "\n",
    "for c in concepts:\n",
    "    all_concepts[c]['First_5'] = all_concepts[c]['2012'] + all_concepts[c]['2013'] + all_concepts[c]['2014'] + all_concepts[c]['2015'] + all_concepts[c]['2016']\n",
    "    all_concepts[c]['Next_6'] = all_concepts[c]['2017'] + all_concepts[c]['2018'] + all_concepts[c]['2019'] + all_concepts[c]['2020'] + all_concepts[c]['2021'] + all_concepts[c]['2022']"
   ]
  },
  {
   "cell_type": "code",
   "execution_count": 13,
   "metadata": {},
   "outputs": [
    {
     "name": "stderr",
     "output_type": "stream",
     "text": [
      "28686it [00:01, 16020.25it/s]\n",
      "16862it [00:00, 21223.97it/s]\n",
      "3320it [00:00, 25285.56it/s]\n",
      "5180it [00:00, 25461.64it/s]\n",
      "52955it [00:03, 14794.63it/s]\n",
      "48065it [00:03, 15543.87it/s]\n",
      "5192it [00:00, 24995.90it/s]\n",
      "14158it [00:00, 21510.61it/s]\n",
      "91311it [00:08, 10994.38it/s]\n",
      "163151it [00:21, 7658.78it/s]\n",
      "57953it [00:04, 13977.20it/s]\n",
      "4074it [00:00, 25288.62it/s]\n",
      "3534it [00:00, 25505.58it/s]\n",
      "4886it [00:00, 25258.36it/s]\n",
      "55353it [00:03, 14612.34it/s]\n",
      "15381it [00:00, 21782.17it/s]\n",
      "5177it [00:00, 25273.51it/s]\n",
      "1303it [00:00, 25830.56it/s]\n",
      "10825it [00:00, 23362.89it/s]\n"
     ]
    }
   ],
   "source": [
    "# Dict of percentiles for all authors in all concepts\n",
    "\n",
    "c_percent = {c:0 for c in concepts}\n",
    "for c in concepts:\n",
    "    f5 = []\n",
    "    l6 = []\n",
    "    first = all_concepts[c]['First_5']\n",
    "    last = all_concepts[c]['Next_6']\n",
    "    for index, row in tqdm.tqdm(all_concepts[c].iterrows()):\n",
    "        f5.append(stats.percentileofscore(first, row['First_5'], kind='weak'))\n",
    "        l6.append(stats.percentileofscore(last, row['Next_6'], kind='weak'))\n",
    "        \n",
    "    c_percent[c] = np.array([f5, l6])"
   ]
  },
  {
   "cell_type": "code",
   "execution_count": 14,
   "metadata": {},
   "outputs": [],
   "source": [
    "#function that plots graphs of specific width and height.\n",
    "\n",
    "def plot_func(x, y, xlabel, ylabel, title):\n",
    "    fig = plt.figure(figsize=(16, 8))\n",
    "    a, b = np.polyfit(x, y, deg=1)\n",
    "    plt.scatter(x, y, alpha=1200/len(x), linewidths= 1)\n",
    "    plt.plot(x, a*x+b)\n",
    "    fig.suptitle(title, fontsize=24)\n",
    "    plt.xlabel(xlabel, fontsize=18)\n",
    "    plt.ylabel(ylabel, fontsize=16)\n",
    "\n",
    "    plt.show()"
   ]
  },
  {
   "cell_type": "code",
   "execution_count": null,
   "metadata": {},
   "outputs": [],
   "source": [
    "for c in concepts:\n",
    "    plot_func(c_percent[c][0], c_percent[c][1], 'Percentile in First 5 years', 'Percentile in Last 6 years', c)"
   ]
  },
  {
   "cell_type": "code",
   "execution_count": 143,
   "metadata": {},
   "outputs": [],
   "source": [
    "allcited = authors[[\"cites_0\",\"cited_1\", \"cited_2\", \"cited_3\", \"cited_4\", \"cited_5\", \"cited_6\", \"cited_7\", \"cited_8\", \"cited_9\", \"cited_10\"]]"
   ]
  },
  {
   "cell_type": "code",
   "execution_count": 167,
   "metadata": {},
   "outputs": [],
   "source": [
    "allyears = authors[[\"year_0\", \"year_1\", \"year_2\", \"year_3\", \"year_4\", \"year_5\", \"year_6\", \"year_7\", \"year_8\", \"year_9\", \"year_10\"]]"
   ]
  },
  {
   "cell_type": "code",
   "execution_count": null,
   "metadata": {},
   "outputs": [],
   "source": [
    "# Run this cell to print and export the data in dataframe into a spreadsheet\n",
    "\n",
    "for c in concepts:\n",
    "    name_of_file = c # Change this string to desired filename\n",
    "    all_concepts[c].to_excel(f'{name_of_file}.xlsx')"
   ]
  },
  {
   "cell_type": "code",
   "execution_count": 117,
   "metadata": {},
   "outputs": [
    {
     "data": {
      "text/plain": [
       "dict_keys(['Political science', 'Philosophy', 'Economics', 'Business', 'Psychology', 'Mathematics', 'Geology', 'Environmental science', 'Biology', 'Medicine', 'Computer science', 'Geography', 'History', 'Materials science', 'Physics', 'Chemistry', 'Art', 'Sociology', 'Engineering'])"
      ]
     },
     "execution_count": 117,
     "metadata": {},
     "output_type": "execute_result"
    }
   ],
   "source": [
    "concepts"
   ]
  },
  {
   "cell_type": "code",
   "execution_count": 137,
   "metadata": {},
   "outputs": [
    {
     "name": "stdout",
     "output_type": "stream",
     "text": [
      "Engineering\n",
      "                                 OLS Regression Results                                \n",
      "=======================================================================================\n",
      "Dep. Variable:                  value   R-squared (uncentered):                   0.810\n",
      "Model:                            OLS   Adj. R-squared (uncentered):              0.810\n",
      "Method:                 Least Squares   F-statistic:                          4.603e+05\n",
      "Date:                Wed, 22 Feb 2023   Prob (F-statistic):                        0.00\n",
      "Time:                        13:39:06   Log-Likelihood:                     -5.1225e+05\n",
      "No. Observations:              108250   AIC:                                  1.025e+06\n",
      "Df Residuals:                  108249   BIC:                                  1.025e+06\n",
      "Df Model:                           1                                                  \n",
      "Covariance Type:            nonrobust                                                  \n",
      "==============================================================================\n",
      "                 coef    std err          t      P>|t|      [0.025      0.975]\n",
      "------------------------------------------------------------------------------\n",
      "value          0.9563      0.001    678.451      0.000       0.954       0.959\n",
      "==============================================================================\n",
      "Omnibus:                    73547.328   Durbin-Watson:                   1.924\n",
      "Prob(Omnibus):                  0.000   Jarque-Bera (JB):       5409024673.093\n",
      "Skew:                          -1.161   Prob(JB):                         0.00\n",
      "Kurtosis:                    1098.091   Cond. No.                         1.00\n",
      "==============================================================================\n",
      "\n",
      "Notes:\n",
      "[1] R² is computed without centering (uncentered) since the model does not contain a constant.\n",
      "[2] Standard Errors assume that the covariance matrix of the errors is correctly specified.\n"
     ]
    }
   ],
   "source": [
    "# Lagged regression\n",
    "import statsmodels.api as sm\n",
    "\n",
    "c = 'Engineering'\n",
    "\n",
    "curr = all_concepts[c].drop(['First_5', 'Next_6', 'ID', 'Name', 'Concept'], axis=1)\n",
    "curr = curr.transpose()\n",
    "\n",
    "l = []\n",
    "for i in range(len(curr.T)):\n",
    "    lag = curr[i].shift()\n",
    "    l.append(lag)\n",
    "\n",
    "lagged = pd.DataFrame(l).transpose()\n",
    "\n",
    "model = sm.OLS(curr.melt()['value'],lagged.melt()['value'], missing='drop')\n",
    "result = model.fit()\n",
    "\n",
    "print(c)\n",
    "print(result.summary())"
   ]
  },
  {
   "cell_type": "code",
   "execution_count": 116,
   "metadata": {},
   "outputs": [
    {
     "data": {
      "text/plain": [
       "value    678.451158\n",
       "dtype: float64"
      ]
     },
     "execution_count": 116,
     "metadata": {},
     "output_type": "execute_result"
    }
   ],
   "source": [
    "result.tvalues"
   ]
  },
  {
   "cell_type": "code",
   "execution_count": 93,
   "metadata": {},
   "outputs": [],
   "source": [
    "art = all_concepts['Economics'].drop(['First_5', 'Next_6', 'ID', 'Name', 'Concept'], axis=1)"
   ]
  },
  {
   "cell_type": "code",
   "execution_count": 97,
   "metadata": {},
   "outputs": [
    {
     "data": {
      "text/html": [
       "<table class=\"simpletable\">\n",
       "<caption>OLS Regression Results</caption>\n",
       "<tr>\n",
       "  <th>Dep. Variable:</th>          <td>value</td>      <th>  R-squared (uncentered):</th>       <td>   0.799</td>  \n",
       "</tr>\n",
       "<tr>\n",
       "  <th>Model:</th>                   <td>OLS</td>       <th>  Adj. R-squared (uncentered):</th>  <td>   0.799</td>  \n",
       "</tr>\n",
       "<tr>\n",
       "  <th>Method:</th>             <td>Least Squares</td>  <th>  F-statistic:       </th>           <td>1.322e+05</td> \n",
       "</tr>\n",
       "<tr>\n",
       "  <th>Date:</th>             <td>Wed, 22 Feb 2023</td> <th>  Prob (F-statistic):</th>            <td>  0.00</td>   \n",
       "</tr>\n",
       "<tr>\n",
       "  <th>Time:</th>                 <td>13:12:12</td>     <th>  Log-Likelihood:    </th>          <td>-1.6009e+05</td>\n",
       "</tr>\n",
       "<tr>\n",
       "  <th>No. Observations:</th>      <td> 33200</td>      <th>  AIC:               </th>           <td>3.202e+05</td> \n",
       "</tr>\n",
       "<tr>\n",
       "  <th>Df Residuals:</th>          <td> 33199</td>      <th>  BIC:               </th>           <td>3.202e+05</td> \n",
       "</tr>\n",
       "<tr>\n",
       "  <th>Df Model:</th>              <td>     1</td>      <th>                     </th>               <td> </td>     \n",
       "</tr>\n",
       "<tr>\n",
       "  <th>Covariance Type:</th>      <td>nonrobust</td>    <th>                     </th>               <td> </td>     \n",
       "</tr>\n",
       "</table>\n",
       "<table class=\"simpletable\">\n",
       "<tr>\n",
       "    <td></td>       <th>coef</th>     <th>std err</th>      <th>t</th>      <th>P>|t|</th>  <th>[0.025</th>    <th>0.975]</th>  \n",
       "</tr>\n",
       "<tr>\n",
       "  <th>value</th> <td>    0.9580</td> <td>    0.003</td> <td>  363.583</td> <td> 0.000</td> <td>    0.953</td> <td>    0.963</td>\n",
       "</tr>\n",
       "</table>\n",
       "<table class=\"simpletable\">\n",
       "<tr>\n",
       "  <th>Omnibus:</th>       <td>77715.881</td> <th>  Durbin-Watson:     </th>    <td>   1.737</td>   \n",
       "</tr>\n",
       "<tr>\n",
       "  <th>Prob(Omnibus):</th>  <td> 0.000</td>   <th>  Jarque-Bera (JB):  </th> <td>4196133283.999</td>\n",
       "</tr>\n",
       "<tr>\n",
       "  <th>Skew:</th>           <td>22.528</td>   <th>  Prob(JB):          </th>    <td>    0.00</td>   \n",
       "</tr>\n",
       "<tr>\n",
       "  <th>Kurtosis:</th>      <td>1744.068</td>  <th>  Cond. No.          </th>    <td>    1.00</td>   \n",
       "</tr>\n",
       "</table><br/><br/>Notes:<br/>[1] R² is computed without centering (uncentered) since the model does not contain a constant.<br/>[2] Standard Errors assume that the covariance matrix of the errors is correctly specified."
      ],
      "text/plain": [
       "<class 'statsmodels.iolib.summary.Summary'>\n",
       "\"\"\"\n",
       "                                 OLS Regression Results                                \n",
       "=======================================================================================\n",
       "Dep. Variable:                  value   R-squared (uncentered):                   0.799\n",
       "Model:                            OLS   Adj. R-squared (uncentered):              0.799\n",
       "Method:                 Least Squares   F-statistic:                          1.322e+05\n",
       "Date:                Wed, 22 Feb 2023   Prob (F-statistic):                        0.00\n",
       "Time:                        13:12:12   Log-Likelihood:                     -1.6009e+05\n",
       "No. Observations:               33200   AIC:                                  3.202e+05\n",
       "Df Residuals:                   33199   BIC:                                  3.202e+05\n",
       "Df Model:                           1                                                  \n",
       "Covariance Type:            nonrobust                                                  \n",
       "==============================================================================\n",
       "                 coef    std err          t      P>|t|      [0.025      0.975]\n",
       "------------------------------------------------------------------------------\n",
       "value          0.9580      0.003    363.583      0.000       0.953       0.963\n",
       "==============================================================================\n",
       "Omnibus:                    77715.881   Durbin-Watson:                   1.737\n",
       "Prob(Omnibus):                  0.000   Jarque-Bera (JB):       4196133283.999\n",
       "Skew:                          22.528   Prob(JB):                         0.00\n",
       "Kurtosis:                    1744.068   Cond. No.                         1.00\n",
       "==============================================================================\n",
       "\n",
       "Notes:\n",
       "[1] R² is computed without centering (uncentered) since the model does not contain a constant.\n",
       "[2] Standard Errors assume that the covariance matrix of the errors is correctly specified.\n",
       "\"\"\""
      ]
     },
     "execution_count": 97,
     "metadata": {},
     "output_type": "execute_result"
    }
   ],
   "source": [
    "import statsmodels.api as sm\n",
    "model = sm.OLS(art.melt()['value'],lagged.melt()['value'], missing='drop')\n",
    "result = model.fit()\n",
    "result.summary()"
   ]
  }
 ],
 "metadata": {
  "kernelspec": {
   "display_name": "base",
   "language": "python",
   "name": "python3"
  },
  "language_info": {
   "codemirror_mode": {
    "name": "ipython",
    "version": 3
   },
   "file_extension": ".py",
   "mimetype": "text/x-python",
   "name": "python",
   "nbconvert_exporter": "python",
   "pygments_lexer": "ipython3",
   "version": "3.9.12"
  },
  "orig_nbformat": 4,
  "vscode": {
   "interpreter": {
    "hash": "04f8f7808fa8a5e6ba7efbe82e27301030a87688229265151c2cf49d6b10a02e"
   }
  }
 },
 "nbformat": 4,
 "nbformat_minor": 2
}
